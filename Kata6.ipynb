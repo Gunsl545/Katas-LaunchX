{
 "cells": [
  {
   "cell_type": "code",
   "execution_count": 6,
   "metadata": {},
   "outputs": [
    {
     "name": "stdout",
     "output_type": "stream",
     "text": [
      "Hay 9 Planetas\n",
      "El último planeta es: Plutón\n"
     ]
    }
   ],
   "source": [
    "planets = [\"Mercurio\",\"Venus\",\"Tierra\",\"Marte\",\"Jupiter\",\"Saturno\",\"Urano\",\"Neptuno\"]\n",
    "planets.append(\"Plutón\")\n",
    "print(\"Hay \" + str(len(planets)) + \" Planetas\")\n",
    "print(\"El último planeta es: \" + str(planets[-1]))"
   ]
  },
  {
   "cell_type": "code",
   "execution_count": 14,
   "metadata": {},
   "outputs": [
    {
     "name": "stdout",
     "output_type": "stream",
     "text": [
      "Planetas mas cercanos al sol que: Tierra\n",
      "['Mercurio', 'Venus']\n",
      "Planetas mas lejanos al sol que: Tierra\n",
      "['Marte', 'Jupiter', 'Saturno', 'Urano', 'Neptuno']\n"
     ]
    }
   ],
   "source": [
    "planets = [\"Mercurio\",\"Venus\",\"Tierra\",\"Marte\",\"Jupiter\",\"Saturno\",\"Urano\",\"Neptuno\"]\n",
    "Entrada = input(\"Escriba el nombre del planeta que desee, y recuerde poner laprimera letra en mayuscula c:\")\n",
    "Indice = planets.index(Entrada)\n",
    "\n",
    "PlanetasCercanos = planets[0:Indice]\n",
    "PlanetasLejanos = planets[Indice+1:]\n",
    "\n",
    "if Entrada == \"Mercurio\":\n",
    "    print(\"No hay planetas mas cercanos al sol que Mercurio\")\n",
    "\n",
    "    print(\"Planetas mas lejanos al sol que: \" + Entrada)\n",
    "    print(PlanetasLejanos)\n",
    "elif Entrada == \"Neptuno\":\n",
    "\n",
    "    print(\"Planetas mas cercanos al sol que: \" + Entrada)\n",
    "    print(PlanetasCercanos)\n",
    "    print(\"No hay planetas mas lejanos al sol que Neptuno (A menos que consideremos a pluton :c)\")\n",
    "\n",
    "else:\n",
    "    print(\"Planetas mas cercanos al sol que: \" + Entrada)\n",
    "    print(PlanetasCercanos)\n",
    "\n",
    "    print(\"Planetas mas lejanos al sol que: \" + Entrada)\n",
    "    print(PlanetasLejanos)\n",
    "\n",
    "\n"
   ]
  }
 ],
 "metadata": {
  "interpreter": {
   "hash": "34f041e16a3ed230ba32ac22bfb5ad920e8aada0c1af61ad82d4dfea598eb27d"
  },
  "kernelspec": {
   "display_name": "Python 3.9.10 64-bit (windows store)",
   "language": "python",
   "name": "python3"
  },
  "language_info": {
   "codemirror_mode": {
    "name": "ipython",
    "version": 3
   },
   "file_extension": ".py",
   "mimetype": "text/x-python",
   "name": "python",
   "nbconvert_exporter": "python",
   "pygments_lexer": "ipython3",
   "version": "3.9.10"
  },
  "orig_nbformat": 4
 },
 "nbformat": 4,
 "nbformat_minor": 2
}
