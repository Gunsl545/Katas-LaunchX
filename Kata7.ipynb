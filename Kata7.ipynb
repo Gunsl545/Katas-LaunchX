{
 "cells": [
  {
   "cell_type": "code",
   "execution_count": 5,
   "metadata": {},
   "outputs": [],
   "source": [
    "NewPlanet = \"\"\n",
    "Planets = []\n",
    "\n",
    "while NewPlanet.lower() != \"done\":\n",
    "    if NewPlanet:\n",
    "        Planets.append(NewPlanet)\n",
    "    NewPlanet = input('Enter a new planet ')"
   ]
  },
  {
   "cell_type": "code",
   "execution_count": 6,
   "metadata": {},
   "outputs": [
    {
     "name": "stdout",
     "output_type": "stream",
     "text": [
      "Mercurio\n",
      "Venus\n",
      "Tierra\n",
      "Marte\n",
      "Jupiter\n",
      "Saturno\n",
      "Urano\n",
      "Neptuno\n"
     ]
    }
   ],
   "source": [
    "planets = [\"Mercurio\",\"Venus\",\"Tierra\",\"Marte\",\"Jupiter\",\"Saturno\",\"Urano\",\"Neptuno\"]\n",
    "\n",
    "for planeta in planets:\n",
    "    print(planeta)\n",
    "    "
   ]
  }
 ],
 "metadata": {
  "interpreter": {
   "hash": "34f041e16a3ed230ba32ac22bfb5ad920e8aada0c1af61ad82d4dfea598eb27d"
  },
  "kernelspec": {
   "display_name": "Python 3.9.10 64-bit (windows store)",
   "language": "python",
   "name": "python3"
  },
  "language_info": {
   "codemirror_mode": {
    "name": "ipython",
    "version": 3
   },
   "file_extension": ".py",
   "mimetype": "text/x-python",
   "name": "python",
   "nbconvert_exporter": "python",
   "pygments_lexer": "ipython3",
   "version": "3.9.10"
  },
  "orig_nbformat": 4
 },
 "nbformat": 4,
 "nbformat_minor": 2
}
