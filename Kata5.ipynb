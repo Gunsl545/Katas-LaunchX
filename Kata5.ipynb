{
 "cells": [
  {
   "cell_type": "code",
   "execution_count": 4,
   "metadata": {},
   "outputs": [
    {
     "name": "stdout",
     "output_type": "stream",
     "text": [
      "La distancia entre la tierra y jupiter es: 628949330km\n",
      "La distancia entre la tierra y jupier es: 390577533.93M\n"
     ]
    }
   ],
   "source": [
    "Earth = 149597870\n",
    "Jupiter = 778547200\n",
    "\n",
    "Distance = abs(Earth-Jupiter)\n",
    "Distancem = Distance*0.621\n",
    "print(\"La distancia entre la tierra y jupiter es: \" + str(Distance) + \"km\")\n",
    "print(\"La distancia entre la tierra y jupier es: \" + str(Distancem) + \"M\")"
   ]
  },
  {
   "cell_type": "code",
   "execution_count": 6,
   "metadata": {},
   "outputs": [
    {
     "name": "stdout",
     "output_type": "stream",
     "text": [
      "La distancia entre la tierra y jupiter es: 5km\n",
      "La distancia entre la tierra y jupier es: 3.105M\n"
     ]
    }
   ],
   "source": [
    "FirstPlanet = input(\"Digite la distancia desde sol al primer planeta en KM\")\n",
    "SecondPlanet = input(\"Digite la distancia desde sol al Segundo planeta en KM\")\n",
    "\n",
    "First = int(FirstPlanet)\n",
    "Second = int(SecondPlanet)\n",
    "\n",
    "Distance = abs(First-Second)\n",
    "Distancem = Distance*0.621\n",
    "print(\"La distancia entre la tierra y jupiter es: \" + str(Distance) + \"km\")\n",
    "print(\"La distancia entre la tierra y jupier es: \" + str(Distancem) + \"M\")"
   ]
  }
 ],
 "metadata": {
  "interpreter": {
   "hash": "34f041e16a3ed230ba32ac22bfb5ad920e8aada0c1af61ad82d4dfea598eb27d"
  },
  "kernelspec": {
   "display_name": "Python 3.9.10 64-bit (windows store)",
   "language": "python",
   "name": "python3"
  },
  "language_info": {
   "codemirror_mode": {
    "name": "ipython",
    "version": 3
   },
   "file_extension": ".py",
   "mimetype": "text/x-python",
   "name": "python",
   "nbconvert_exporter": "python",
   "pygments_lexer": "ipython3",
   "version": "3.9.10"
  },
  "orig_nbformat": 4
 },
 "nbformat": 4,
 "nbformat_minor": 2
}
