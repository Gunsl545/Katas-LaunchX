{
 "cells": [
  {
   "cell_type": "code",
   "execution_count": 8,
   "metadata": {},
   "outputs": [
    {
     "name": "stdout",
     "output_type": "stream",
     "text": [
      "Today´s date is: 2022-02-07\n"
     ]
    }
   ],
   "source": [
    "from datetime import date\n",
    "print(\"Today´s date is: \" + str(date.today()))"
   ]
  },
  {
   "cell_type": "code",
   "execution_count": 11,
   "metadata": {},
   "outputs": [
    {
     "name": "stdout",
     "output_type": "stream",
     "text": [
      "5 parsec, is 16.3078 lightyears\n"
     ]
    }
   ],
   "source": [
    "parsec = input('Input the quantity of parsecs you want to convert to lightyears')\n",
    "lightyear = float(parsec)*3.26156\n",
    "print(str(parsec) + ' parsec, is ' + str(lightyear) + ' lightyears')"
   ]
  }
 ],
 "metadata": {
  "interpreter": {
   "hash": "34f041e16a3ed230ba32ac22bfb5ad920e8aada0c1af61ad82d4dfea598eb27d"
  },
  "kernelspec": {
   "display_name": "Python 3.9.10 64-bit (windows store)",
   "language": "python",
   "name": "python3"
  },
  "language_info": {
   "codemirror_mode": {
    "name": "ipython",
    "version": 3
   },
   "file_extension": ".py",
   "mimetype": "text/x-python",
   "name": "python",
   "nbconvert_exporter": "python",
   "pygments_lexer": "ipython3",
   "version": "3.9.10"
  },
  "orig_nbformat": 4
 },
 "nbformat": 4,
 "nbformat_minor": 2
}
